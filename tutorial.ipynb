{
 "cells": [
  {
   "cell_type": "code",
   "execution_count": 1,
   "metadata": {},
   "outputs": [
    {
     "name": "stdout",
     "output_type": "stream",
     "text": [
      "\u001b[?1l\u001b[22;34mverbose mode: on\r\n",
      "\u001b[?1h\u001b[1;94m"
     ]
    }
   ],
   "source": [
    ":verbose on"
   ]
  },
  {
   "cell_type": "markdown",
   "metadata": {},
   "source": [
    "# Church numerals\n",
    "\n",
    "In *λ-calculus*, Peano natural numbers are represented as Church numerals under the Church encoding. The representation of a natural number $n$ is a higher-order function mapping any function $f$ to its n-fold composition, as\n",
    "\n",
    "$$ f^n = \\underbrace{f \\circ f \\circ \\cdots \\circ f}_{n\\text{ times}}.\\, $$\n",
    "\n",
    "Using this encoding, the number $0$ simply returns the identity function; the number $1$ returns the function $f$ unchanged; the number $2$ returns $f \\circ f$, and so on, as \n",
    "\n",
    "$$ 0 = \\lambda f. \\lambda x.\\ x $$\n",
    "$$ 1 = \\lambda f. \\lambda x.\\ f\\ x $$\n",
    "$$ 2 = \\lambda f. \\lambda x.\\ f\\ (f\\ x) $$\n",
    "\n",
    "the **successor** function, then, simply applies the function one more time\n",
    "\n",
    "$$ \\mathtt{succ} = \\lambda n . \\lambda f. \\lambda x.\\ f\\ (n\\ f\\ x), $$\n",
    "\n",
    "and we can write this in mikrokosmos as"
   ]
  },
  {
   "cell_type": "code",
   "execution_count": 2,
   "metadata": {},
   "outputs": [
    {
     "name": "stdout",
     "output_type": "stream",
     "text": [
      "\u001b[?1l\u001b[22;34m\u001b[m\u001b[?1h\u001b[1;94m\u001b[?1l\u001b[22;34m\u001b[m\u001b[?1h\u001b[1;94m"
     ]
    }
   ],
   "source": [
    "0 = \\f.\\x.x\n",
    "succ = \\n.\\f.\\x. f (n f x)"
   ]
  },
  {
   "cell_type": "code",
   "execution_count": 3,
   "metadata": {},
   "outputs": [
    {
     "name": "stdout",
     "output_type": "stream",
     "text": [
      "\u001b[?1l\u001b[22;34m0\r\n",
      "λλ1\r\n",
      "\r\n",
      "λa.λb.b\u001b[32m ⇒ 0\u001b[m\r\n",
      "\u001b[m\u001b[?1h\u001b[1;94m\u001b[?1l\u001b[22;34m(succ 0)\r\n",
      "(\u001b[1;36mλ\u001b[22;34mλλ(2 ((\u001b[1;36m3\u001b[22;34m 2) 1)) \u001b[2;36mλλ1\u001b[22;34m)\r\n",
      "λλ(2 ((\u001b[1;36mλ\u001b[22;34mλ1 \u001b[2;36m2\u001b[22;34m) 1))\r\n",
      "λλ(2 (\u001b[1;36mλ\u001b[22;34m\u001b[1;36m1\u001b[22;34m \u001b[2;36m1\u001b[22;34m))\r\n",
      "λλ(2 1)\r\n",
      "\r\n",
      "λa.λb.(a b)\r\n",
      "\u001b[m\u001b[?1h\u001b[1;94m\u001b[?1l\u001b[22;34m(succ (succ 0))\r\n",
      "(\u001b[1;36mλ\u001b[22;34mλλ(2 ((\u001b[1;36m3\u001b[22;34m 2) 1)) \u001b[2;36m(λλλ(2 ((3 2) 1)) λλ1)\u001b[22;34m)\r\n",
      "λλ(2 (((\u001b[1;36mλ\u001b[22;34mλλ(2 ((\u001b[1;36m3\u001b[22;34m 2) 1)) \u001b[2;36mλλ1\u001b[22;34m) 2) 1))\r\n",
      "λλ(2 ((\u001b[1;36mλ\u001b[22;34mλ(\u001b[1;36m2\u001b[22;34m ((λλ1 \u001b[1;36m2\u001b[22;34m) 1)) \u001b[2;36m2\u001b[22;34m) 1))\r\n",
      "λλ(2 (\u001b[1;36mλ\u001b[22;34m(3 ((λλ1 3) \u001b[1;36m1\u001b[22;34m)) \u001b[2;36m1\u001b[22;34m))\r\n",
      "λλ(2 (2 ((\u001b[1;36mλ\u001b[22;34mλ1 \u001b[2;36m2\u001b[22;34m) 1)))\r\n",
      "λλ(2 (2 (\u001b[1;36mλ\u001b[22;34m\u001b[1;36m1\u001b[22;34m \u001b[2;36m1\u001b[22;34m)))\r\n",
      "λλ(2 (2 1))\r\n",
      "\r\n",
      "λa.λb.(a (a b))\r\n",
      "\u001b[m\u001b[?1h\u001b[1;94m"
     ]
    }
   ],
   "source": [
    "0\n",
    "succ 0\n",
    "succ (succ 0)"
   ]
  },
  {
   "cell_type": "code",
   "execution_count": null,
   "metadata": {
    "collapsed": true
   },
   "outputs": [],
   "source": [
    ":load nat"
   ]
  },
  {
   "cell_type": "markdown",
   "metadata": {},
   "source": [
    "## Basic arithmetic\n",
    "\n",
    "We will represent the basic arithmetical functions as lambda-calculus terms"
   ]
  },
  {
   "cell_type": "code",
   "execution_count": 13,
   "metadata": {},
   "outputs": [
    {
     "name": "stdout",
     "output_type": "stream",
     "text": [
      "\u001b[?1l\u001b[22;34m\u001b[m\u001b[?1h\u001b[1;94m\u001b[?1l\u001b[22;34m\u001b[m\u001b[?1h\u001b[1;94m"
     ]
    }
   ],
   "source": [
    "plus = \\m.\\n.\\f.\\x.m f (n f x)\n",
    "mult = \\m.\\n.\\f.\\x.m (n f) x"
   ]
  },
  {
   "cell_type": "code",
   "execution_count": 14,
   "metadata": {},
   "outputs": [
    {
     "name": "stdout",
     "output_type": "stream",
     "text": [
      "\u001b[?1l\u001b[22;34m((plus (succ 0)) (succ (succ 0)))\r\n",
      "((\u001b[1;36mλ\u001b[22;34mλλλ((\u001b[1;36m4\u001b[22;34m 2) ((3 2) 1)) \u001b[2;36m(λλλ(2 ((3 2) 1)) λλ1)\u001b[22;34m) (\u001b[1;36mλ\u001b[22;34mλλ(2 ((\u001b[1;36m3\u001b[22;34m 2) 1)) \u001b[2;36m(λλλ(2 ((3 2) 1)) λλ1)\u001b[22;34m))\r\n",
      "(\u001b[1;36mλ\u001b[22;34mλλ(((λλλ(2 ((3 2) 1)) λλ1) 2) ((\u001b[1;36m3\u001b[22;34m 2) 1)) \u001b[2;36m(λλλ(2 ((3 2) 1)) (λλλ(2 ((3 2) 1)) λλ1))\u001b[22;34m)\r\n",
      "λλ(((\u001b[1;36mλ\u001b[22;34mλλ(2 ((\u001b[1;36m3\u001b[22;34m 2) 1)) \u001b[2;36mλλ1\u001b[22;34m) 2) (((\u001b[1;36mλ\u001b[22;34mλλ(2 ((\u001b[1;36m3\u001b[22;34m 2) 1)) \u001b[2;36m(λλλ(2 ((3 2) 1)) λλ1)\u001b[22;34m) 2) 1))\r\n",
      "λλ((\u001b[1;36mλ\u001b[22;34mλ(\u001b[1;36m2\u001b[22;34m ((λλ1 \u001b[1;36m2\u001b[22;34m) 1)) \u001b[2;36m2\u001b[22;34m) (((\u001b[1;36mλ\u001b[22;34mλλ(2 ((\u001b[1;36m3\u001b[22;34m 2) 1)) \u001b[2;36m(λλλ(2 ((3 2) 1)) λλ1)\u001b[22;34m) 2) 1))\r\n",
      "λλ(\u001b[1;36mλ\u001b[22;34m(3 ((λλ1 3) \u001b[1;36m1\u001b[22;34m)) \u001b[2;36m(((λλλ(2 ((3 2) 1)) (λλλ(2 ((3 2) 1)) λλ1)) 2) 1)\u001b[22;34m)\r\n",
      "λλ(2 ((\u001b[1;36mλ\u001b[22;34mλ1 \u001b[2;36m2\u001b[22;34m) (((\u001b[1;36mλ\u001b[22;34mλλ(2 ((\u001b[1;36m3\u001b[22;34m 2) 1)) \u001b[2;36m(λλλ(2 ((3 2) 1)) λλ1)\u001b[22;34m) 2) 1)))\r\n",
      "λλ(2 (\u001b[1;36mλ\u001b[22;34m\u001b[1;36m1\u001b[22;34m \u001b[2;36m(((λλλ(2 ((3 2) 1)) (λλλ(2 ((3 2) 1)) λλ1)) 2) 1)\u001b[22;34m))\r\n",
      "λλ(2 (((\u001b[1;36mλ\u001b[22;34mλλ(2 ((\u001b[1;36m3\u001b[22;34m 2) 1)) \u001b[2;36m(λλλ(2 ((3 2) 1)) λλ1)\u001b[22;34m) 2) 1))\r\n",
      "λλ(2 ((\u001b[1;36mλ\u001b[22;34mλ(\u001b[1;36m2\u001b[22;34m (((λλλ(2 ((3 2) 1)) λλ1) \u001b[1;36m2\u001b[22;34m) 1)) \u001b[2;36m2\u001b[22;34m) 1))\r\n",
      "λλ(2 (\u001b[1;36mλ\u001b[22;34m(3 (((λλλ(2 ((3 2) 1)) λλ1) 3) \u001b[1;36m1\u001b[22;34m)) \u001b[2;36m1\u001b[22;34m))\r\n",
      "λλ(2 (2 (((\u001b[1;36mλ\u001b[22;34mλλ(2 ((\u001b[1;36m3\u001b[22;34m 2) 1)) \u001b[2;36mλλ1\u001b[22;34m) 2) 1)))\r\n",
      "λλ(2 (2 ((\u001b[1;36mλ\u001b[22;34mλ(\u001b[1;36m2\u001b[22;34m ((λλ1 \u001b[1;36m2\u001b[22;34m) 1)) \u001b[2;36m2\u001b[22;34m) 1)))\r\n",
      "λλ(2 (2 (\u001b[1;36mλ\u001b[22;34m(3 ((λλ1 3) \u001b[1;36m1\u001b[22;34m)) \u001b[2;36m1\u001b[22;34m)))\r\n",
      "λλ(2 (2 (2 ((\u001b[1;36mλ\u001b[22;34mλ1 \u001b[2;36m2\u001b[22;34m) 1))))\r\n",
      "λλ(2 (2 (2 (\u001b[1;36mλ\u001b[22;34m\u001b[1;36m1\u001b[22;34m \u001b[2;36m1\u001b[22;34m))))\r\n",
      "λλ(2 (2 (2 1)))\r\n",
      "\r\n",
      "λa.λb.(a (a (a b)))\r\n",
      "\u001b[m\u001b[?1h\u001b[1;94m"
     ]
    }
   ],
   "source": [
    "plus (succ 0) (succ (succ 0))"
   ]
  }
 ],
 "metadata": {
  "kernelspec": {
   "display_name": "IMikrokosmos",
   "language": "",
   "name": "imikrokosmos"
  },
  "language_info": {
   "codemirror_mode": "mikrokosmos",
   "file_extension": ".mkr",
   "mimetype": "text/plain",
   "name": "Mikrokosmos"
  }
 },
 "nbformat": 4,
 "nbformat_minor": 2
}
